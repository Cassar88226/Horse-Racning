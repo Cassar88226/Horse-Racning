{
 "cells": [
  {
   "cell_type": "markdown",
   "metadata": {},
   "source": [
    "# import Libraries\n",
    "pandas: for data reading and preprocessing<br>\n",
    "tensorflow: for neural network construction<br>\n",
    "sklearn.preprocessing: for data encoding<br>\n",
    "sklearn.model_selection: it has convenient method for training/test data spliting<br>\n",
    "matplotlib.pyplot: to plot performance of the training process.<br>"
   ]
  },
  {
   "cell_type": "code",
   "execution_count": 9,
   "metadata": {},
   "outputs": [],
   "source": [
    "import pandas as pd\n",
    "import numpy as np\n",
    "import tensorflow as tf\n",
    "import sklearn.preprocessing as preprocessing\n",
    "import sklearn.model_selection as model_selection\n",
    "import matplotlib.pyplot as plt\n",
    "import keras\n",
    "from keras.models import Sequential\n",
    "from keras.layers.normalization import BatchNormalization\n",
    "from keras.layers.convolutional import Conv2D\n",
    "from keras.layers.convolutional import MaxPooling2D\n",
    "from keras.layers.core import Activation\n",
    "from keras.layers.core import Dropout\n",
    "from keras.layers.core import Dense\n",
    "from keras.layers import Flatten\n",
    "from keras.layers import Input\n",
    "from keras.models import Model\n",
    "from keras.optimizers import SGD\n",
    "from keras.optimizers import Adam\n",
    "from keras.callbacks import EarlyStopping"
   ]
  },
  {
   "cell_type": "markdown",
   "metadata": {},
   "source": [
    "# Read Dataset"
   ]
  },
  {
   "cell_type": "code",
   "execution_count": 12,
   "metadata": {},
   "outputs": [],
   "source": [
    "dataset = pd.read_csv('feature selection1.csv', index_col=False)"
   ]
  },
  {
   "cell_type": "code",
   "execution_count": 13,
   "metadata": {},
   "outputs": [
    {
     "name": "stdout",
     "output_type": "stream",
     "text": [
      "   venuename  racedistance  horseid1  row1  trainer1  driver1  handicap1  \\\n",
      "0         28          1755    784858    13      3154      895          0   \n",
      "1         51          2147    777950     3      1180      902          0   \n",
      "2         28          2160    803659    13      2913      726          0   \n",
      "3         51          1758    768857     7      2944      650          0   \n",
      "4         28          2160    776812     1       290      954          0   \n",
      "\n",
      "   age1  horseid2  row2  ...  place10  place11  place12  place13  place14  \\\n",
      "0     4    776424     6  ...       10        0        0        0        0   \n",
      "1     5    761352    13  ...       10        0        0        0        0   \n",
      "2     4    786617     1  ...       10        0        0        0        0   \n",
      "3     6    220555     1  ...        0        0        0        0        0   \n",
      "4     5    782182     6  ...       10        0        0        0        0   \n",
      "\n",
      "   place15  place16  place17  place18  place19  \n",
      "0        0        0        0        0        0  \n",
      "1        0        0        0        0        0  \n",
      "2        0        0        0        0        0  \n",
      "3        0        0        0        0        0  \n",
      "4        0        0        0        0        0  \n",
      "\n",
      "[5 rows x 135 columns]\n"
     ]
    }
   ],
   "source": [
    "print(dataset.head())"
   ]
  },
  {
   "cell_type": "markdown",
   "metadata": {},
   "source": [
    "# Prepare training/test data\n",
    "\n",
    "Select right columns for X, y<br>\n",
    "<ul>\n",
    "    <li> select all the data except last 19 columns, because last 19 columns are is about 'place'</li>\n",
    "    <li> Select last 19 columns for y</li>\n",
    "</ul>\n",
    "Split data into train/test sets\n",
    "<ul>\n",
    "    <li>80% for training</li>\n",
    "    <li>20% for testing(validation)</li>\n",
    "</ul>"
   ]
  },
  {
   "cell_type": "code",
   "execution_count": 14,
   "metadata": {},
   "outputs": [],
   "source": [
    "X = dataset[dataset.columns[:-19]]\n",
    "y = dataset[dataset.columns[-19:]]"
   ]
  },
  {
   "cell_type": "code",
   "execution_count": 16,
   "metadata": {},
   "outputs": [
    {
     "name": "stdout",
     "output_type": "stream",
     "text": [
      "(66804, 116)\n",
      "(66804, 19)\n"
     ]
    }
   ],
   "source": [
    "print(X.shape)\n",
    "print(y.shape)\n",
    "\n",
    "# split data into train and test sets\n",
    "X_train, X_test, y_train, y_test = model_selection.train_test_split(X, y, train_size=0.8, test_size=0.2, random_state=1)"
   ]
  },
  {
   "cell_type": "code",
   "execution_count": 25,
   "metadata": {},
   "outputs": [
    {
     "name": "stdout",
     "output_type": "stream",
     "text": [
      "       place1  place2  place3  place4  place5  place6  place7  place8  place9  \\\n",
      "45506       1       2       3       4       5       6       7       8       9   \n",
      "51526       1       2       3       4       5       6       7       8       9   \n",
      "28679       1       2       3       4       5       6       0       0       0   \n",
      "19589       1       2       3       4       5       6       7       8       9   \n",
      "57          1       2       3       4       5       6       0       0       0   \n",
      "...       ...     ...     ...     ...     ...     ...     ...     ...     ...   \n",
      "49100       1       2       3       4       5       6       7       8       9   \n",
      "20609       1       2       3       4       5       6       7       8       0   \n",
      "21440       1       2       3       4       5       6       7       8       9   \n",
      "50057       1       2       3       4       5       6       7       8       0   \n",
      "5192        1       2       3       4       5       6       7       8       9   \n",
      "\n",
      "       place10  place11  place12  place13  place14  place15  place16  place17  \\\n",
      "45506       10        0        0        0        0        0        0        0   \n",
      "51526       10        0        0        0        0        0        0        0   \n",
      "28679        0        0        0        0        0        0        0        0   \n",
      "19589       10       11       12        0        0        0        0        0   \n",
      "57           0        0        0        0        0        0        0        0   \n",
      "...        ...      ...      ...      ...      ...      ...      ...      ...   \n",
      "49100       10        0        0        0        0        0        0        0   \n",
      "20609        0        0        0        0        0        0        0        0   \n",
      "21440       10       11       12        0        0        0        0        0   \n",
      "50057        0        0        0        0        0        0        0        0   \n",
      "5192        10       11        0        0        0        0        0        0   \n",
      "\n",
      "       place18  place19  \n",
      "45506        0        0  \n",
      "51526        0        0  \n",
      "28679        0        0  \n",
      "19589        0        0  \n",
      "57           0        0  \n",
      "...        ...      ...  \n",
      "49100        0        0  \n",
      "20609        0        0  \n",
      "21440        0        0  \n",
      "50057        0        0  \n",
      "5192         0        0  \n",
      "\n",
      "[53443 rows x 19 columns]\n"
     ]
    }
   ],
   "source": [
    "print(y_train)"
   ]
  },
  {
   "cell_type": "markdown",
   "metadata": {},
   "source": [
    "# Build the model\n",
    "Use keras to build the model with easy-to-use api Sequential<br>\n",
    "Have to mention that input layer has 116 inputs. The calculation is following:\n",
    "<ul>\n",
    "    <li>2 features from race data - venuename, racedistance</li>\n",
    "    <li>19 horses has 6 features - horseid,row, trainer, driver, handicap, age</li>\n",
    "</ul>\n",
    "Output layer has 14 nodes"
   ]
  },
  {
   "cell_type": "code",
   "execution_count": 57,
   "metadata": {},
   "outputs": [],
   "source": [
    "# create model\n",
    "model = Sequential()\n",
    "model.add(Dense(128, input_dim=X_train.shape[1], kernel_initializer='normal', activation='relu'))\n",
    "model.add(Dropout(0.1))\n",
    "model.add(Dense(256, kernel_initializer='normal', activation='relu'))\n",
    "model.add(Dropout(0.1))\n",
    "model.add(Dense(128, kernel_initializer='normal', activation='relu'))\n",
    "# model.add(Dropout(0.1))\n",
    "# model.add(Dense(60, kernel_initializer='normal', activation='relu'))\n",
    "# model.add(Dropout(0.1))\n",
    "# model.add(Dense(30, kernel_initializer='normal', activation='relu'))\n",
    "# model.add(Dense(60, kernel_initializer='normal', activation='relu'))\n",
    "# model.add(Dense(30, kernel_initializer='normal', activation='relu'))\n",
    "model.add(Dropout(0.1))\n",
    "model.add(Dense(64, kernel_initializer='normal', activation='relu'))\n",
    "model.add(Dense(19))\n",
    "# initialize the optimizer\n",
    "opt = Adam(lr=0.0001)\n",
    "# opt = SGD(lr=0.01, nesterov=True, momentum=0.9)\n",
    "# Compile model\n",
    "model.compile(loss='mse', metrics=['mae'], optimizer=opt)"
   ]
  },
  {
   "cell_type": "code",
   "execution_count": 58,
   "metadata": {},
   "outputs": [
    {
     "name": "stdout",
     "output_type": "stream",
     "text": [
      "Model: \"sequential_5\"\n",
      "_________________________________________________________________\n",
      "Layer (type)                 Output Shape              Param #   \n",
      "=================================================================\n",
      "dense_21 (Dense)             (None, 128)               14976     \n",
      "_________________________________________________________________\n",
      "dropout_11 (Dropout)         (None, 128)               0         \n",
      "_________________________________________________________________\n",
      "dense_22 (Dense)             (None, 256)               33024     \n",
      "_________________________________________________________________\n",
      "dropout_12 (Dropout)         (None, 256)               0         \n",
      "_________________________________________________________________\n",
      "dense_23 (Dense)             (None, 128)               32896     \n",
      "_________________________________________________________________\n",
      "dropout_13 (Dropout)         (None, 128)               0         \n",
      "_________________________________________________________________\n",
      "dense_24 (Dense)             (None, 64)                8256      \n",
      "_________________________________________________________________\n",
      "dense_25 (Dense)             (None, 19)                1235      \n",
      "=================================================================\n",
      "Total params: 90,387\n",
      "Trainable params: 90,387\n",
      "Non-trainable params: 0\n",
      "_________________________________________________________________\n",
      "None\n"
     ]
    }
   ],
   "source": [
    "print(model.summary())"
   ]
  },
  {
   "cell_type": "markdown",
   "metadata": {},
   "source": [
    "# Train the model\n"
   ]
  },
  {
   "cell_type": "code",
   "execution_count": 59,
   "metadata": {},
   "outputs": [
    {
     "name": "stdout",
     "output_type": "stream",
     "text": [
      "model-128-256-128-19(all relu)-20210112-07-56-epoch={epoch:02d}-val_loss={val_loss:.6f}.hdf5\n"
     ]
    }
   ],
   "source": [
    "from datetime import datetime\n",
    "cur_date_time = datetime.strftime(datetime.now(), '%Y%m%d-%H-%M')\n",
    "model_weight_name = 'model-128-256-128-64-19(all relu)-' + cur_date_time + '-' + 'epoch={epoch:02d}-val_loss={val_loss:.6f}.hdf5'\n",
    "model_structure_name = 'model-128-256-128-64-19(all relu)-' + cur_date_time + '.json'\n",
    "print(model_weight_name)"
   ]
  },
  {
   "cell_type": "code",
   "execution_count": 60,
   "metadata": {},
   "outputs": [],
   "source": [
    "from keras.callbacks import ModelCheckpoint\n",
    "checkpoint = ModelCheckpoint(model_weight_name, monitor='val_loss', mode='min', save_best_only=True, verbose=1)"
   ]
  },
  {
   "cell_type": "code",
   "execution_count": 62,
   "metadata": {},
   "outputs": [
    {
     "name": "stdout",
     "output_type": "stream",
     "text": [
      "Epoch 1/10000\n",
      "5345/5345 [==============================] - 9s 2ms/step - loss: 100.5983 - mae: 2.4686 - val_loss: 13.7385 - val_mae: 2.2655\n",
      "\n",
      "Epoch 00001: val_loss improved from inf to 13.73851, saving model to model-128-256-128-19(all relu)-20210112-07-56-epoch=01-val_loss=13.738507.hdf5\n",
      "Epoch 2/10000\n",
      "5345/5345 [==============================] - 9s 2ms/step - loss: 63.0923 - mae: 2.2961 - val_loss: 12.0746 - val_mae: 2.1358\n",
      "\n",
      "Epoch 00002: val_loss improved from 13.73851 to 12.07465, saving model to model-128-256-128-19(all relu)-20210112-07-56-epoch=02-val_loss=12.074646.hdf5\n",
      "Epoch 3/10000\n",
      "5345/5345 [==============================] - 8s 2ms/step - loss: 87.0243 - mae: 2.1373 - val_loss: 10.5687 - val_mae: 1.9943\n",
      "\n",
      "Epoch 00003: val_loss improved from 12.07465 to 10.56869, saving model to model-128-256-128-19(all relu)-20210112-07-56-epoch=03-val_loss=10.568688.hdf5\n",
      "Epoch 4/10000\n",
      "5345/5345 [==============================] - 8s 2ms/step - loss: 27.8791 - mae: 1.9633 - val_loss: 9.2248 - val_mae: 1.8529\n",
      "\n",
      "Epoch 00004: val_loss improved from 10.56869 to 9.22481, saving model to model-128-256-128-19(all relu)-20210112-07-56-epoch=04-val_loss=9.224807.hdf5\n",
      "Epoch 5/10000\n",
      "5345/5345 [==============================] - 8s 2ms/step - loss: 19.0570 - mae: 1.8060 - val_loss: 8.0612 - val_mae: 1.7133\n",
      "\n",
      "Epoch 00005: val_loss improved from 9.22481 to 8.06118, saving model to model-128-256-128-19(all relu)-20210112-07-56-epoch=05-val_loss=8.061178.hdf5\n",
      "Epoch 6/10000\n",
      "5345/5345 [==============================] - 9s 2ms/step - loss: 69.7003 - mae: 1.7054 - val_loss: 7.2032 - val_mae: 1.5906\n",
      "\n",
      "Epoch 00006: val_loss improved from 8.06118 to 7.20316, saving model to model-128-256-128-19(all relu)-20210112-07-56-epoch=06-val_loss=7.203156.hdf5\n",
      "Epoch 7/10000\n",
      "5345/5345 [==============================] - 8s 2ms/step - loss: 47.8277 - mae: 1.5760 - val_loss: 6.4685 - val_mae: 1.4651\n",
      "\n",
      "Epoch 00007: val_loss improved from 7.20316 to 6.46853, saving model to model-128-256-128-19(all relu)-20210112-07-56-epoch=07-val_loss=6.468526.hdf5\n",
      "Epoch 8/10000\n",
      "5345/5345 [==============================] - 9s 2ms/step - loss: 43.7939 - mae: 1.4565 - val_loss: 5.9534 - val_mae: 1.3762\n",
      "\n",
      "Epoch 00008: val_loss improved from 6.46853 to 5.95336, saving model to model-128-256-128-19(all relu)-20210112-07-56-epoch=08-val_loss=5.953361.hdf5\n",
      "Epoch 9/10000\n",
      "5345/5345 [==============================] - 10s 2ms/step - loss: 6.6155 - mae: 1.3250 - val_loss: 5.4699 - val_mae: 1.2630\n",
      "\n",
      "Epoch 00009: val_loss improved from 5.95336 to 5.46989, saving model to model-128-256-128-19(all relu)-20210112-07-56-epoch=09-val_loss=5.469888.hdf5\n",
      "Epoch 10/10000\n",
      "5345/5345 [==============================] - 9s 2ms/step - loss: 5.9794 - mae: 1.2111 - val_loss: 5.1360 - val_mae: 1.1640\n",
      "\n",
      "Epoch 00010: val_loss improved from 5.46989 to 5.13596, saving model to model-128-256-128-19(all relu)-20210112-07-56-epoch=10-val_loss=5.135959.hdf5\n",
      "Epoch 11/10000\n",
      "5345/5345 [==============================] - 8s 2ms/step - loss: 47.5963 - mae: 1.1789 - val_loss: 4.9887 - val_mae: 1.1197\n",
      "\n",
      "Epoch 00011: val_loss improved from 5.13596 to 4.98866, saving model to model-128-256-128-19(all relu)-20210112-07-56-epoch=11-val_loss=4.988661.hdf5\n",
      "Epoch 12/10000\n",
      "5345/5345 [==============================] - 8s 2ms/step - loss: 5.9554 - mae: 1.0986 - val_loss: 4.8596 - val_mae: 1.0725\n",
      "\n",
      "Epoch 00012: val_loss improved from 4.98866 to 4.85959, saving model to model-128-256-128-19(all relu)-20210112-07-56-epoch=12-val_loss=4.859585.hdf5\n",
      "Epoch 13/10000\n",
      "5345/5345 [==============================] - 8s 2ms/step - loss: 4.7777 - mae: 1.0474 - val_loss: 4.7853 - val_mae: 1.0325\n",
      "\n",
      "Epoch 00013: val_loss improved from 4.85959 to 4.78526, saving model to model-128-256-128-19(all relu)-20210112-07-56-epoch=13-val_loss=4.785262.hdf5\n",
      "Epoch 14/10000\n",
      "5345/5345 [==============================] - 8s 2ms/step - loss: 25.8494 - mae: 1.0376 - val_loss: 4.7543 - val_mae: 1.0085\n",
      "\n",
      "Epoch 00014: val_loss improved from 4.78526 to 4.75432, saving model to model-128-256-128-19(all relu)-20210112-07-56-epoch=14-val_loss=4.754325.hdf5\n",
      "Epoch 15/10000\n",
      "5345/5345 [==============================] - 8s 2ms/step - loss: 4.7044 - mae: 0.9999 - val_loss: 4.7422 - val_mae: 0.9985\n",
      "\n",
      "Epoch 00015: val_loss improved from 4.75432 to 4.74216, saving model to model-128-256-128-19(all relu)-20210112-07-56-epoch=15-val_loss=4.742163.hdf5\n",
      "Epoch 16/10000\n",
      "5345/5345 [==============================] - 9s 2ms/step - loss: 4.6942 - mae: 0.9904 - val_loss: 4.7360 - val_mae: 0.9923\n",
      "\n",
      "Epoch 00016: val_loss improved from 4.74216 to 4.73597, saving model to model-128-256-128-19(all relu)-20210112-07-56-epoch=16-val_loss=4.735965.hdf5\n",
      "Epoch 17/10000\n",
      "5345/5345 [==============================] - 9s 2ms/step - loss: 4.6894 - mae: 0.9857 - val_loss: 4.7332 - val_mae: 0.9877\n",
      "\n",
      "Epoch 00017: val_loss improved from 4.73597 to 4.73323, saving model to model-128-256-128-19(all relu)-20210112-07-56-epoch=17-val_loss=4.733226.hdf5\n",
      "Epoch 18/10000\n",
      "5345/5345 [==============================] - 9s 2ms/step - loss: 5.3768 - mae: 0.9868 - val_loss: 4.7321 - val_mae: 0.9860\n",
      "\n",
      "Epoch 00018: val_loss improved from 4.73323 to 4.73208, saving model to model-128-256-128-19(all relu)-20210112-07-56-epoch=18-val_loss=4.732082.hdf5\n",
      "Epoch 19/10000\n",
      "5345/5345 [==============================] - 9s 2ms/step - loss: 11.8828 - mae: 0.9977 - val_loss: 4.7317 - val_mae: 0.9853\n",
      "\n",
      "Epoch 00019: val_loss improved from 4.73208 to 4.73169, saving model to model-128-256-128-19(all relu)-20210112-07-56-epoch=19-val_loss=4.731695.hdf5\n",
      "Epoch 20/10000\n",
      "5345/5345 [==============================] - 9s 2ms/step - loss: 4.8471 - mae: 0.9824 - val_loss: 4.7314 - val_mae: 0.9839\n",
      "\n",
      "Epoch 00020: val_loss improved from 4.73169 to 4.73144, saving model to model-128-256-128-19(all relu)-20210112-07-56-epoch=20-val_loss=4.731440.hdf5\n",
      "Epoch 21/10000\n",
      "5345/5345 [==============================] - 9s 2ms/step - loss: 4.6854 - mae: 0.9795 - val_loss: 4.7313 - val_mae: 0.9822\n",
      "\n",
      "Epoch 00021: val_loss improved from 4.73144 to 4.73132, saving model to model-128-256-128-19(all relu)-20210112-07-56-epoch=21-val_loss=4.731324.hdf5\n",
      "Epoch 22/10000\n",
      "5345/5345 [==============================] - 9s 2ms/step - loss: 9.1256 - mae: 0.9904 - val_loss: 4.7313 - val_mae: 0.9833\n",
      "\n",
      "Epoch 00022: val_loss improved from 4.73132 to 4.73129, saving model to model-128-256-128-19(all relu)-20210112-07-56-epoch=22-val_loss=4.731289.hdf5\n",
      "Epoch 23/10000\n",
      "5345/5345 [==============================] - 9s 2ms/step - loss: 7.3075 - mae: 0.9858 - val_loss: 4.7313 - val_mae: 0.9835\n",
      "\n",
      "Epoch 00023: val_loss improved from 4.73129 to 4.73126, saving model to model-128-256-128-19(all relu)-20210112-07-56-epoch=23-val_loss=4.731262.hdf5\n",
      "Epoch 24/10000\n",
      "5345/5345 [==============================] - 9s 2ms/step - loss: 96.1155 - mae: 1.0377 - val_loss: 4.7313 - val_mae: 0.9846\n",
      "\n",
      "Epoch 00024: val_loss did not improve from 4.73126\n",
      "Epoch 25/10000\n",
      "5345/5345 [==============================] - 9s 2ms/step - loss: 4.6852 - mae: 0.9801 - val_loss: 4.7313 - val_mae: 0.9832\n",
      "\n",
      "Epoch 00025: val_loss did not improve from 4.73126\n",
      "Epoch 26/10000\n",
      "5345/5345 [==============================] - 9s 2ms/step - loss: 4.6852 - mae: 0.9786 - val_loss: 4.7313 - val_mae: 0.9833\n",
      "\n",
      "Epoch 00026: val_loss did not improve from 4.73126\n",
      "Epoch 27/10000\n",
      "5345/5345 [==============================] - 10s 2ms/step - loss: 4.6852 - mae: 0.9784 - val_loss: 4.7313 - val_mae: 0.9832\n",
      "\n",
      "Epoch 00027: val_loss did not improve from 4.73126\n",
      "Epoch 28/10000\n",
      "5345/5345 [==============================] - 8s 2ms/step - loss: 6.8828 - mae: 0.9871 - val_loss: 4.7313 - val_mae: 0.9828\n",
      "\n",
      "Epoch 00028: val_loss did not improve from 4.73126\n",
      "Epoch 29/10000\n",
      "5345/5345 [==============================] - 8s 2ms/step - loss: 4.6852 - mae: 0.9784 - val_loss: 4.7313 - val_mae: 0.9826\n",
      "\n",
      "Epoch 00029: val_loss did not improve from 4.73126\n",
      "Epoch 30/10000\n",
      "5345/5345 [==============================] - 8s 2ms/step - loss: 5.0991 - mae: 0.9825 - val_loss: 4.7313 - val_mae: 0.9832\n",
      "\n",
      "Epoch 00030: val_loss did not improve from 4.73126\n",
      "Epoch 31/10000\n",
      "5345/5345 [==============================] - 8s 2ms/step - loss: 66.3343 - mae: 1.0230 - val_loss: 4.7313 - val_mae: 0.9848\n",
      "\n",
      "Epoch 00031: val_loss did not improve from 4.73126\n",
      "Epoch 32/10000\n"
     ]
    },
    {
     "name": "stdout",
     "output_type": "stream",
     "text": [
      "5345/5345 [==============================] - 8s 2ms/step - loss: 4.6852 - mae: 0.9800 - val_loss: 4.7313 - val_mae: 0.9834\n",
      "\n",
      "Epoch 00032: val_loss did not improve from 4.73126\n",
      "Epoch 33/10000\n",
      "5345/5345 [==============================] - 8s 2ms/step - loss: 4.6852 - mae: 0.9784 - val_loss: 4.7313 - val_mae: 0.9832\n",
      "\n",
      "Epoch 00033: val_loss did not improve from 4.73126\n",
      "Epoch 34/10000\n",
      "5345/5345 [==============================] - 8s 2ms/step - loss: 4.6852 - mae: 0.9786 - val_loss: 4.7313 - val_mae: 0.9825\n",
      "\n",
      "Epoch 00034: val_loss did not improve from 4.73126\n",
      "Epoch 35/10000\n",
      "5345/5345 [==============================] - 8s 2ms/step - loss: 4.6852 - mae: 0.9782 - val_loss: 4.7313 - val_mae: 0.9825\n",
      "\n",
      "Epoch 00035: val_loss did not improve from 4.73126\n",
      "Epoch 36/10000\n",
      "5345/5345 [==============================] - 9s 2ms/step - loss: 4.6852 - mae: 0.9785 - val_loss: 4.7313 - val_mae: 0.9834\n",
      "\n",
      "Epoch 00036: val_loss did not improve from 4.73126\n",
      "Epoch 37/10000\n",
      "5345/5345 [==============================] - 9s 2ms/step - loss: 4.8934 - mae: 0.9803 - val_loss: 4.7313 - val_mae: 0.9832\n",
      "\n",
      "Epoch 00037: val_loss did not improve from 4.73126\n",
      "Epoch 38/10000\n",
      "5345/5345 [==============================] - 8s 2ms/step - loss: 4.6858 - mae: 0.9790 - val_loss: 4.7313 - val_mae: 0.9825\n",
      "\n",
      "Epoch 00038: val_loss did not improve from 4.73126\n",
      "Epoch 39/10000\n",
      "5345/5345 [==============================] - 8s 2ms/step - loss: 4.6851 - mae: 0.9784 - val_loss: 4.7313 - val_mae: 0.9821\n",
      "\n",
      "Epoch 00039: val_loss did not improve from 4.73126\n",
      "Epoch 40/10000\n",
      "5345/5345 [==============================] - 9s 2ms/step - loss: 4.8205 - mae: 0.9800 - val_loss: 4.7313 - val_mae: 0.9830\n",
      "\n",
      "Epoch 00040: val_loss did not improve from 4.73126\n",
      "Epoch 41/10000\n",
      "5345/5345 [==============================] - 9s 2ms/step - loss: 7.5411 - mae: 0.9886 - val_loss: 4.7313 - val_mae: 0.9834\n",
      "\n",
      "Epoch 00041: val_loss did not improve from 4.73126\n",
      "Epoch 42/10000\n",
      "5345/5345 [==============================] - 8s 2ms/step - loss: 4.6852 - mae: 0.9789 - val_loss: 4.7313 - val_mae: 0.9824\n",
      "\n",
      "Epoch 00042: val_loss did not improve from 4.73126\n",
      "Epoch 43/10000\n",
      "5345/5345 [==============================] - 9s 2ms/step - loss: 5.2048 - mae: 0.9816 - val_loss: 4.7313 - val_mae: 0.9821\n",
      "\n",
      "Epoch 00043: val_loss did not improve from 4.73126\n",
      "Epoch 44/10000\n",
      "5345/5345 [==============================] - 8s 2ms/step - loss: 4.6852 - mae: 0.9781 - val_loss: 4.7313 - val_mae: 0.9839\n",
      "\n",
      "Epoch 00044: val_loss did not improve from 4.73126\n",
      "Epoch 45/10000\n",
      "5345/5345 [==============================] - 8s 2ms/step - loss: 4.7470 - mae: 0.9801 - val_loss: 4.7313 - val_mae: 0.9826\n",
      "\n",
      "Epoch 00045: val_loss did not improve from 4.73126\n",
      "Epoch 46/10000\n",
      "5345/5345 [==============================] - 8s 2ms/step - loss: 4.6852 - mae: 0.9783 - val_loss: 4.7313 - val_mae: 0.9831\n",
      "\n",
      "Epoch 00046: val_loss did not improve from 4.73126\n",
      "Epoch 47/10000\n",
      "5345/5345 [==============================] - 8s 2ms/step - loss: 5.5154 - mae: 0.9842 - val_loss: 4.7313 - val_mae: 0.9835\n",
      "\n",
      "Epoch 00047: val_loss did not improve from 4.73126\n",
      "Epoch 48/10000\n",
      "5345/5345 [==============================] - 8s 2ms/step - loss: 4.6852 - mae: 0.9786 - val_loss: 4.7313 - val_mae: 0.9833\n",
      "\n",
      "Epoch 00048: val_loss did not improve from 4.73126\n",
      "Epoch 49/10000\n",
      "5345/5345 [==============================] - 8s 2ms/step - loss: 4.6852 - mae: 0.9787 - val_loss: 4.7313 - val_mae: 0.9832\n",
      "\n",
      "Epoch 00049: val_loss did not improve from 4.73126\n",
      "Epoch 50/10000\n",
      "5345/5345 [==============================] - 8s 2ms/step - loss: 4.6852 - mae: 0.9786 - val_loss: 4.7313 - val_mae: 0.9829\n",
      "\n",
      "Epoch 00050: val_loss did not improve from 4.73126\n",
      "Epoch 51/10000\n",
      "5345/5345 [==============================] - 8s 2ms/step - loss: 5.0248 - mae: 0.9812 - val_loss: 4.7313 - val_mae: 0.9827\n",
      "\n",
      "Epoch 00051: val_loss did not improve from 4.73126\n",
      "Epoch 52/10000\n",
      "5345/5345 [==============================] - 8s 2ms/step - loss: 4.6852 - mae: 0.9784 - val_loss: 4.7313 - val_mae: 0.9829\n",
      "\n",
      "Epoch 00052: val_loss did not improve from 4.73126\n",
      "Epoch 53/10000\n",
      "5345/5345 [==============================] - 8s 2ms/step - loss: 4.6852 - mae: 0.9784 - val_loss: 4.7313 - val_mae: 0.9828\n",
      "\n",
      "Epoch 00053: val_loss did not improve from 4.73126\n",
      "Epoch 54/10000\n",
      "5345/5345 [==============================] - 8s 2ms/step - loss: 4.6851 - mae: 0.9786 - val_loss: 4.7313 - val_mae: 0.9828\n",
      "\n",
      "Epoch 00054: val_loss did not improve from 4.73126\n",
      "Epoch 55/10000\n",
      "5345/5345 [==============================] - 8s 2ms/step - loss: 4.6852 - mae: 0.9782 - val_loss: 4.7313 - val_mae: 0.9826\n",
      "\n",
      "Epoch 00055: val_loss did not improve from 4.73126\n",
      "Epoch 56/10000\n",
      "5345/5345 [==============================] - 8s 2ms/step - loss: 4.6852 - mae: 0.9788 - val_loss: 4.7313 - val_mae: 0.9826\n",
      "\n",
      "Epoch 00056: val_loss did not improve from 4.73126\n",
      "Epoch 57/10000\n",
      "5345/5345 [==============================] - 8s 2ms/step - loss: 4.6852 - mae: 0.9783 - val_loss: 4.7313 - val_mae: 0.9825\n",
      "\n",
      "Epoch 00057: val_loss did not improve from 4.73126\n",
      "Epoch 58/10000\n",
      "5345/5345 [==============================] - 8s 2ms/step - loss: 4.6852 - mae: 0.9781 - val_loss: 4.7313 - val_mae: 0.9830\n",
      "\n",
      "Epoch 00058: val_loss did not improve from 4.73126\n",
      "Epoch 59/10000\n",
      "5345/5345 [==============================] - 8s 2ms/step - loss: 4.6851 - mae: 0.9787 - val_loss: 4.7313 - val_mae: 0.9823\n",
      "\n",
      "Epoch 00059: val_loss did not improve from 4.73126\n",
      "Epoch 60/10000\n",
      "5345/5345 [==============================] - 8s 2ms/step - loss: 4.6852 - mae: 0.9781 - val_loss: 4.7313 - val_mae: 0.9830\n",
      "\n",
      "Epoch 00060: val_loss did not improve from 4.73126\n",
      "Epoch 61/10000\n",
      "5345/5345 [==============================] - 8s 2ms/step - loss: 4.6852 - mae: 0.9787 - val_loss: 4.7313 - val_mae: 0.9826\n",
      "\n",
      "Epoch 00061: val_loss did not improve from 4.73126\n",
      "Epoch 62/10000\n",
      "5345/5345 [==============================] - 8s 2ms/step - loss: 7.2091 - mae: 0.9856 - val_loss: 4.7313 - val_mae: 0.9828\n",
      "\n",
      "Epoch 00062: val_loss did not improve from 4.73126\n",
      "Epoch 63/10000\n",
      "5345/5345 [==============================] - 8s 2ms/step - loss: 4.6852 - mae: 0.9783 - val_loss: 4.7313 - val_mae: 0.9830\n",
      "\n",
      "Epoch 00063: val_loss did not improve from 4.73126\n",
      "Epoch 64/10000\n",
      "5345/5345 [==============================] - 8s 2ms/step - loss: 4.9383 - mae: 0.9813 - val_loss: 4.7313 - val_mae: 0.9823\n",
      "\n",
      "Epoch 00064: val_loss did not improve from 4.73126\n",
      "Epoch 65/10000\n",
      "5345/5345 [==============================] - 8s 2ms/step - loss: 4.6852 - mae: 0.9782 - val_loss: 4.7313 - val_mae: 0.9827\n",
      "\n",
      "Epoch 00065: val_loss did not improve from 4.73126\n",
      "Epoch 66/10000\n",
      "5345/5345 [==============================] - 8s 2ms/step - loss: 19.3826 - mae: 0.9960 - val_loss: 4.7313 - val_mae: 0.9840\n",
      "\n",
      "Epoch 00066: val_loss did not improve from 4.73126\n",
      "Epoch 67/10000\n",
      "5345/5345 [==============================] - 8s 2ms/step - loss: 4.6852 - mae: 0.9794 - val_loss: 4.7313 - val_mae: 0.9827\n",
      "\n",
      "Epoch 00067: val_loss did not improve from 4.73126\n",
      "Epoch 68/10000\n",
      "5345/5345 [==============================] - 8s 2ms/step - loss: 9.1678 - mae: 0.9877 - val_loss: 4.7313 - val_mae: 0.9825\n",
      "\n",
      "Epoch 00068: val_loss did not improve from 4.73126\n",
      "Epoch 69/10000\n",
      "5345/5345 [==============================] - 8s 2ms/step - loss: 4.6852 - mae: 0.9782 - val_loss: 4.7313 - val_mae: 0.9835\n",
      "\n",
      "Epoch 00069: val_loss did not improve from 4.73126\n",
      "Epoch 70/10000\n",
      "5345/5345 [==============================] - 9s 2ms/step - loss: 35.3697 - mae: 1.0092 - val_loss: 4.7313 - val_mae: 0.9826\n",
      "\n",
      "Epoch 00070: val_loss did not improve from 4.73126\n",
      "Epoch 71/10000\n",
      "5345/5345 [==============================] - 9s 2ms/step - loss: 18.1661 - mae: 0.9940 - val_loss: 4.7313 - val_mae: 0.9829\n",
      "\n",
      "Epoch 00071: val_loss did not improve from 4.73126\n",
      "Epoch 72/10000\n",
      "3829/5345 [====================>.........] - ETA: 2s - loss: 4.6846 - mae: 0.9781"
     ]
    },
    {
     "ename": "KeyboardInterrupt",
     "evalue": "",
     "output_type": "error",
     "traceback": [
      "\u001b[1;31m---------------------------------------------------------------------------\u001b[0m",
      "\u001b[1;31mKeyboardInterrupt\u001b[0m                         Traceback (most recent call last)",
      "\u001b[1;32m<ipython-input-62-c260174ce633>\u001b[0m in \u001b[0;36m<module>\u001b[1;34m\u001b[0m\n\u001b[0;32m      2\u001b[0m \u001b[0mearly_stopping_monitor\u001b[0m \u001b[1;33m=\u001b[0m \u001b[0mEarlyStopping\u001b[0m\u001b[1;33m(\u001b[0m\u001b[0mpatience\u001b[0m\u001b[1;33m=\u001b[0m\u001b[1;36m5\u001b[0m\u001b[1;33m)\u001b[0m\u001b[1;33m\u001b[0m\u001b[1;33m\u001b[0m\u001b[0m\n\u001b[0;32m      3\u001b[0m \u001b[1;31m#train model\u001b[0m\u001b[1;33m\u001b[0m\u001b[1;33m\u001b[0m\u001b[1;33m\u001b[0m\u001b[0m\n\u001b[1;32m----> 4\u001b[1;33m \u001b[0mH\u001b[0m \u001b[1;33m=\u001b[0m \u001b[0mmodel\u001b[0m\u001b[1;33m.\u001b[0m\u001b[0mfit\u001b[0m\u001b[1;33m(\u001b[0m\u001b[0mX_train\u001b[0m\u001b[1;33m,\u001b[0m \u001b[0my_train\u001b[0m\u001b[1;33m,\u001b[0m \u001b[0mvalidation_split\u001b[0m\u001b[1;33m=\u001b[0m\u001b[1;36m0.2\u001b[0m\u001b[1;33m,\u001b[0m \u001b[0mepochs\u001b[0m\u001b[1;33m=\u001b[0m\u001b[1;36m10000\u001b[0m\u001b[1;33m,\u001b[0m \u001b[0mcallbacks\u001b[0m\u001b[1;33m=\u001b[0m\u001b[1;33m[\u001b[0m\u001b[0mcheckpoint\u001b[0m\u001b[1;33m]\u001b[0m\u001b[1;33m,\u001b[0m \u001b[0mbatch_size\u001b[0m\u001b[1;33m=\u001b[0m\u001b[1;36m8\u001b[0m\u001b[1;33m)\u001b[0m\u001b[1;33m\u001b[0m\u001b[1;33m\u001b[0m\u001b[0m\n\u001b[0m",
      "\u001b[1;32mF:\\WorkSpace\\81 Horse Racing\\Horse-Racning\\racing_venv\\lib\\site-packages\\tensorflow\\python\\keras\\engine\\training.py\u001b[0m in \u001b[0;36mfit\u001b[1;34m(self, x, y, batch_size, epochs, verbose, callbacks, validation_split, validation_data, shuffle, class_weight, sample_weight, initial_epoch, steps_per_epoch, validation_steps, validation_batch_size, validation_freq, max_queue_size, workers, use_multiprocessing)\u001b[0m\n\u001b[0;32m   1098\u001b[0m                 _r=1):\n\u001b[0;32m   1099\u001b[0m               \u001b[0mcallbacks\u001b[0m\u001b[1;33m.\u001b[0m\u001b[0mon_train_batch_begin\u001b[0m\u001b[1;33m(\u001b[0m\u001b[0mstep\u001b[0m\u001b[1;33m)\u001b[0m\u001b[1;33m\u001b[0m\u001b[1;33m\u001b[0m\u001b[0m\n\u001b[1;32m-> 1100\u001b[1;33m               \u001b[0mtmp_logs\u001b[0m \u001b[1;33m=\u001b[0m \u001b[0mself\u001b[0m\u001b[1;33m.\u001b[0m\u001b[0mtrain_function\u001b[0m\u001b[1;33m(\u001b[0m\u001b[0miterator\u001b[0m\u001b[1;33m)\u001b[0m\u001b[1;33m\u001b[0m\u001b[1;33m\u001b[0m\u001b[0m\n\u001b[0m\u001b[0;32m   1101\u001b[0m               \u001b[1;32mif\u001b[0m \u001b[0mdata_handler\u001b[0m\u001b[1;33m.\u001b[0m\u001b[0mshould_sync\u001b[0m\u001b[1;33m:\u001b[0m\u001b[1;33m\u001b[0m\u001b[1;33m\u001b[0m\u001b[0m\n\u001b[0;32m   1102\u001b[0m                 \u001b[0mcontext\u001b[0m\u001b[1;33m.\u001b[0m\u001b[0masync_wait\u001b[0m\u001b[1;33m(\u001b[0m\u001b[1;33m)\u001b[0m\u001b[1;33m\u001b[0m\u001b[1;33m\u001b[0m\u001b[0m\n",
      "\u001b[1;32mF:\\WorkSpace\\81 Horse Racing\\Horse-Racning\\racing_venv\\lib\\site-packages\\tensorflow\\python\\eager\\def_function.py\u001b[0m in \u001b[0;36m__call__\u001b[1;34m(self, *args, **kwds)\u001b[0m\n\u001b[0;32m    826\u001b[0m     \u001b[0mtracing_count\u001b[0m \u001b[1;33m=\u001b[0m \u001b[0mself\u001b[0m\u001b[1;33m.\u001b[0m\u001b[0mexperimental_get_tracing_count\u001b[0m\u001b[1;33m(\u001b[0m\u001b[1;33m)\u001b[0m\u001b[1;33m\u001b[0m\u001b[1;33m\u001b[0m\u001b[0m\n\u001b[0;32m    827\u001b[0m     \u001b[1;32mwith\u001b[0m \u001b[0mtrace\u001b[0m\u001b[1;33m.\u001b[0m\u001b[0mTrace\u001b[0m\u001b[1;33m(\u001b[0m\u001b[0mself\u001b[0m\u001b[1;33m.\u001b[0m\u001b[0m_name\u001b[0m\u001b[1;33m)\u001b[0m \u001b[1;32mas\u001b[0m \u001b[0mtm\u001b[0m\u001b[1;33m:\u001b[0m\u001b[1;33m\u001b[0m\u001b[1;33m\u001b[0m\u001b[0m\n\u001b[1;32m--> 828\u001b[1;33m       \u001b[0mresult\u001b[0m \u001b[1;33m=\u001b[0m \u001b[0mself\u001b[0m\u001b[1;33m.\u001b[0m\u001b[0m_call\u001b[0m\u001b[1;33m(\u001b[0m\u001b[1;33m*\u001b[0m\u001b[0margs\u001b[0m\u001b[1;33m,\u001b[0m \u001b[1;33m**\u001b[0m\u001b[0mkwds\u001b[0m\u001b[1;33m)\u001b[0m\u001b[1;33m\u001b[0m\u001b[1;33m\u001b[0m\u001b[0m\n\u001b[0m\u001b[0;32m    829\u001b[0m       \u001b[0mcompiler\u001b[0m \u001b[1;33m=\u001b[0m \u001b[1;34m\"xla\"\u001b[0m \u001b[1;32mif\u001b[0m \u001b[0mself\u001b[0m\u001b[1;33m.\u001b[0m\u001b[0m_experimental_compile\u001b[0m \u001b[1;32melse\u001b[0m \u001b[1;34m\"nonXla\"\u001b[0m\u001b[1;33m\u001b[0m\u001b[1;33m\u001b[0m\u001b[0m\n\u001b[0;32m    830\u001b[0m       \u001b[0mnew_tracing_count\u001b[0m \u001b[1;33m=\u001b[0m \u001b[0mself\u001b[0m\u001b[1;33m.\u001b[0m\u001b[0mexperimental_get_tracing_count\u001b[0m\u001b[1;33m(\u001b[0m\u001b[1;33m)\u001b[0m\u001b[1;33m\u001b[0m\u001b[1;33m\u001b[0m\u001b[0m\n",
      "\u001b[1;32mF:\\WorkSpace\\81 Horse Racing\\Horse-Racning\\racing_venv\\lib\\site-packages\\tensorflow\\python\\eager\\def_function.py\u001b[0m in \u001b[0;36m_call\u001b[1;34m(self, *args, **kwds)\u001b[0m\n\u001b[0;32m    853\u001b[0m       \u001b[1;31m# In this case we have created variables on the first call, so we run the\u001b[0m\u001b[1;33m\u001b[0m\u001b[1;33m\u001b[0m\u001b[1;33m\u001b[0m\u001b[0m\n\u001b[0;32m    854\u001b[0m       \u001b[1;31m# defunned version which is guaranteed to never create variables.\u001b[0m\u001b[1;33m\u001b[0m\u001b[1;33m\u001b[0m\u001b[1;33m\u001b[0m\u001b[0m\n\u001b[1;32m--> 855\u001b[1;33m       \u001b[1;32mreturn\u001b[0m \u001b[0mself\u001b[0m\u001b[1;33m.\u001b[0m\u001b[0m_stateless_fn\u001b[0m\u001b[1;33m(\u001b[0m\u001b[1;33m*\u001b[0m\u001b[0margs\u001b[0m\u001b[1;33m,\u001b[0m \u001b[1;33m**\u001b[0m\u001b[0mkwds\u001b[0m\u001b[1;33m)\u001b[0m  \u001b[1;31m# pylint: disable=not-callable\u001b[0m\u001b[1;33m\u001b[0m\u001b[1;33m\u001b[0m\u001b[0m\n\u001b[0m\u001b[0;32m    856\u001b[0m     \u001b[1;32melif\u001b[0m \u001b[0mself\u001b[0m\u001b[1;33m.\u001b[0m\u001b[0m_stateful_fn\u001b[0m \u001b[1;32mis\u001b[0m \u001b[1;32mnot\u001b[0m \u001b[1;32mNone\u001b[0m\u001b[1;33m:\u001b[0m\u001b[1;33m\u001b[0m\u001b[1;33m\u001b[0m\u001b[0m\n\u001b[0;32m    857\u001b[0m       \u001b[1;31m# Release the lock early so that multiple threads can perform the call\u001b[0m\u001b[1;33m\u001b[0m\u001b[1;33m\u001b[0m\u001b[1;33m\u001b[0m\u001b[0m\n",
      "\u001b[1;32mF:\\WorkSpace\\81 Horse Racing\\Horse-Racning\\racing_venv\\lib\\site-packages\\tensorflow\\python\\eager\\function.py\u001b[0m in \u001b[0;36m__call__\u001b[1;34m(self, *args, **kwargs)\u001b[0m\n\u001b[0;32m   2940\u001b[0m       (graph_function,\n\u001b[0;32m   2941\u001b[0m        filtered_flat_args) = self._maybe_define_function(args, kwargs)\n\u001b[1;32m-> 2942\u001b[1;33m     return graph_function._call_flat(\n\u001b[0m\u001b[0;32m   2943\u001b[0m         filtered_flat_args, captured_inputs=graph_function.captured_inputs)  # pylint: disable=protected-access\n\u001b[0;32m   2944\u001b[0m \u001b[1;33m\u001b[0m\u001b[0m\n",
      "\u001b[1;32mF:\\WorkSpace\\81 Horse Racing\\Horse-Racning\\racing_venv\\lib\\site-packages\\tensorflow\\python\\eager\\function.py\u001b[0m in \u001b[0;36m_call_flat\u001b[1;34m(self, args, captured_inputs, cancellation_manager)\u001b[0m\n\u001b[0;32m   1916\u001b[0m         and executing_eagerly):\n\u001b[0;32m   1917\u001b[0m       \u001b[1;31m# No tape is watching; skip to running the function.\u001b[0m\u001b[1;33m\u001b[0m\u001b[1;33m\u001b[0m\u001b[1;33m\u001b[0m\u001b[0m\n\u001b[1;32m-> 1918\u001b[1;33m       return self._build_call_outputs(self._inference_function.call(\n\u001b[0m\u001b[0;32m   1919\u001b[0m           ctx, args, cancellation_manager=cancellation_manager))\n\u001b[0;32m   1920\u001b[0m     forward_backward = self._select_forward_and_backward_functions(\n",
      "\u001b[1;32mF:\\WorkSpace\\81 Horse Racing\\Horse-Racning\\racing_venv\\lib\\site-packages\\tensorflow\\python\\eager\\function.py\u001b[0m in \u001b[0;36mcall\u001b[1;34m(self, ctx, args, cancellation_manager)\u001b[0m\n\u001b[0;32m    553\u001b[0m       \u001b[1;32mwith\u001b[0m \u001b[0m_InterpolateFunctionError\u001b[0m\u001b[1;33m(\u001b[0m\u001b[0mself\u001b[0m\u001b[1;33m)\u001b[0m\u001b[1;33m:\u001b[0m\u001b[1;33m\u001b[0m\u001b[1;33m\u001b[0m\u001b[0m\n\u001b[0;32m    554\u001b[0m         \u001b[1;32mif\u001b[0m \u001b[0mcancellation_manager\u001b[0m \u001b[1;32mis\u001b[0m \u001b[1;32mNone\u001b[0m\u001b[1;33m:\u001b[0m\u001b[1;33m\u001b[0m\u001b[1;33m\u001b[0m\u001b[0m\n\u001b[1;32m--> 555\u001b[1;33m           outputs = execute.execute(\n\u001b[0m\u001b[0;32m    556\u001b[0m               \u001b[0mstr\u001b[0m\u001b[1;33m(\u001b[0m\u001b[0mself\u001b[0m\u001b[1;33m.\u001b[0m\u001b[0msignature\u001b[0m\u001b[1;33m.\u001b[0m\u001b[0mname\u001b[0m\u001b[1;33m)\u001b[0m\u001b[1;33m,\u001b[0m\u001b[1;33m\u001b[0m\u001b[1;33m\u001b[0m\u001b[0m\n\u001b[0;32m    557\u001b[0m               \u001b[0mnum_outputs\u001b[0m\u001b[1;33m=\u001b[0m\u001b[0mself\u001b[0m\u001b[1;33m.\u001b[0m\u001b[0m_num_outputs\u001b[0m\u001b[1;33m,\u001b[0m\u001b[1;33m\u001b[0m\u001b[1;33m\u001b[0m\u001b[0m\n",
      "\u001b[1;32mF:\\WorkSpace\\81 Horse Racing\\Horse-Racning\\racing_venv\\lib\\site-packages\\tensorflow\\python\\eager\\execute.py\u001b[0m in \u001b[0;36mquick_execute\u001b[1;34m(op_name, num_outputs, inputs, attrs, ctx, name)\u001b[0m\n\u001b[0;32m     57\u001b[0m   \u001b[1;32mtry\u001b[0m\u001b[1;33m:\u001b[0m\u001b[1;33m\u001b[0m\u001b[1;33m\u001b[0m\u001b[0m\n\u001b[0;32m     58\u001b[0m     \u001b[0mctx\u001b[0m\u001b[1;33m.\u001b[0m\u001b[0mensure_initialized\u001b[0m\u001b[1;33m(\u001b[0m\u001b[1;33m)\u001b[0m\u001b[1;33m\u001b[0m\u001b[1;33m\u001b[0m\u001b[0m\n\u001b[1;32m---> 59\u001b[1;33m     tensors = pywrap_tfe.TFE_Py_Execute(ctx._handle, device_name, op_name,\n\u001b[0m\u001b[0;32m     60\u001b[0m                                         inputs, attrs, num_outputs)\n\u001b[0;32m     61\u001b[0m   \u001b[1;32mexcept\u001b[0m \u001b[0mcore\u001b[0m\u001b[1;33m.\u001b[0m\u001b[0m_NotOkStatusException\u001b[0m \u001b[1;32mas\u001b[0m \u001b[0me\u001b[0m\u001b[1;33m:\u001b[0m\u001b[1;33m\u001b[0m\u001b[1;33m\u001b[0m\u001b[0m\n",
      "\u001b[1;31mKeyboardInterrupt\u001b[0m: "
     ]
    }
   ],
   "source": [
    "#set early stopping monitor so the model stops training when it won't improve anymore\n",
    "early_stopping_monitor = EarlyStopping(patience=5)\n",
    "#train model\n",
    "H = model.fit(X_train, y_train, validation_split=0.2, epochs=10000, callbacks=[checkpoint], batch_size=8)"
   ]
  },
  {
   "cell_type": "code",
   "execution_count": 63,
   "metadata": {},
   "outputs": [
    {
     "data": {
      "text/plain": [
       "tensorflow.python.keras.engine.sequential.Sequential"
      ]
     },
     "execution_count": 63,
     "metadata": {},
     "output_type": "execute_result"
    }
   ],
   "source": [
    "type(model)"
   ]
  },
  {
   "cell_type": "code",
   "execution_count": 64,
   "metadata": {},
   "outputs": [],
   "source": [
    "model.load_weights('model-128-256-128-19(all relu)-20210112-07-56-epoch=23-val_loss=4.731262.hdf5')"
   ]
  },
  {
   "cell_type": "code",
   "execution_count": 65,
   "metadata": {},
   "outputs": [],
   "source": [
    "#example on how to use our newly trained model on how to make predictions on unseen data (we will pretend our new data is saved in a dataframe called 'test_X').\n",
    "test_y_predictions = model.predict(X_test)"
   ]
  },
  {
   "cell_type": "code",
   "execution_count": 69,
   "metadata": {},
   "outputs": [
    {
     "name": "stdout",
     "output_type": "stream",
     "text": [
      "[ 1.0374131e+00  2.0340316e+00  3.0188518e+00  4.0087247e+00\n",
      "  4.9829860e+00  5.8615375e+00  6.4179277e+00  6.4231176e+00\n",
      "  5.6362963e+00  4.2649417e+00  1.8814851e+00  1.1203094e+00\n",
      "  4.1048028e-02  2.1488179e-02  8.9699412e-03  6.5667960e-03\n",
      "  4.4540535e-03  3.1743569e-03 -2.8695455e-03]\n"
     ]
    }
   ],
   "source": [
    "print(test_y_predictions[-1])"
   ]
  },
  {
   "cell_type": "code",
   "execution_count": 54,
   "metadata": {},
   "outputs": [
    {
     "name": "stdout",
     "output_type": "stream",
     "text": [
      "       place1  place2  place3  place4  place5  place6  place7  place8  place9  \\\n",
      "20603       1       2       3       4       5       6       7       8       9   \n",
      "52177       1       2       3       4       5       6       7       8       9   \n",
      "40573       1       2       3       4       5       6       7       8       9   \n",
      "21921       1       2       3       4       5       6       7       8       0   \n",
      "51071       1       2       3       4       5       6       7       8       9   \n",
      "...       ...     ...     ...     ...     ...     ...     ...     ...     ...   \n",
      "53953       1       2       3       4       5       6       7       8       9   \n",
      "34890       1       2       3       4       5       6       7       8       0   \n",
      "44814       1       2       3       4       5       6       7       8       9   \n",
      "45994       1       2       3       4       5       6       7       0       0   \n",
      "6764        1       2       3       4       5       6       7       0       0   \n",
      "\n",
      "       place10  place11  place12  place13  place14  place15  place16  place17  \\\n",
      "20603       10       11        0        0        0        0        0        0   \n",
      "52177        0        0        0        0        0        0        0        0   \n",
      "40573       10        0        0        0        0        0        0        0   \n",
      "21921        0        0        0        0        0        0        0        0   \n",
      "51071       10       11       12        0        0        0        0        0   \n",
      "...        ...      ...      ...      ...      ...      ...      ...      ...   \n",
      "53953        0        0        0        0        0        0        0        0   \n",
      "34890        0        0        0        0        0        0        0        0   \n",
      "44814        0        0        0        0        0        0        0        0   \n",
      "45994        0        0        0        0        0        0        0        0   \n",
      "6764         0        0        0        0        0        0        0        0   \n",
      "\n",
      "       place18  place19  \n",
      "20603        0        0  \n",
      "52177        0        0  \n",
      "40573        0        0  \n",
      "21921        0        0  \n",
      "51071        0        0  \n",
      "...        ...      ...  \n",
      "53953        0        0  \n",
      "34890        0        0  \n",
      "44814        0        0  \n",
      "45994        0        0  \n",
      "6764         0        0  \n",
      "\n",
      "[13361 rows x 19 columns]\n"
     ]
    }
   ],
   "source": [
    "print(y_test)"
   ]
  },
  {
   "cell_type": "code",
   "execution_count": 70,
   "metadata": {},
   "outputs": [
    {
     "data": {
      "text/plain": [
       "pandas.core.frame.DataFrame"
      ]
     },
     "execution_count": 70,
     "metadata": {},
     "output_type": "execute_result"
    }
   ],
   "source": [
    "type(X_test)"
   ]
  },
  {
   "cell_type": "code",
   "execution_count": null,
   "metadata": {},
   "outputs": [],
   "source": []
  }
 ],
 "metadata": {
  "kernelspec": {
   "display_name": "racing_venv",
   "language": "python",
   "name": "racing_venv"
  },
  "language_info": {
   "codemirror_mode": {
    "name": "ipython",
    "version": 3
   },
   "file_extension": ".py",
   "mimetype": "text/x-python",
   "name": "python",
   "nbconvert_exporter": "python",
   "pygments_lexer": "ipython3",
   "version": "3.8.1"
  }
 },
 "nbformat": 4,
 "nbformat_minor": 4
}
